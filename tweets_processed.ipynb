{
 "cells": [
  {
   "cell_type": "code",
   "execution_count": 10,
   "metadata": {
    "collapsed": false
   },
   "outputs": [],
   "source": [
    "import MeCab\n",
    "import sys"
   ]
  },
  {
   "cell_type": "code",
   "execution_count": 11,
   "metadata": {
    "collapsed": false
   },
   "outputs": [
    {
     "data": {
      "text/plain": [
       "'out.txt'"
      ]
     },
     "execution_count": 11,
     "metadata": {},
     "output_type": "execute_result"
    }
   ],
   "source": [
    "def morph_analysis(infile, outfile) : # infileの文章を解析して，結果をoutfileに出力\n",
    "    t = MeCab.Tagger(''.join(sys.argv)) # 形態素解析器の変数（オブジェクト）を作成 sys.argvはコマンドライン引数を取る関数で辞書指定に使う\n",
    "    fin = open(infile, 'r') # 解析対象のファイルを開く\n",
    "    fout = open(outfile, 'w') # 解析結果を書き出すファイルを開く\n",
    "    fout.write(t.parse(fin.read())) # 読み込んで解析して書き出し\n",
    "    fin.close() # ファイルを閉じる\n",
    "    fout.close()\n",
    "    return outfile\n",
    "\n",
    "\n",
    "morph_analysis('processedtweets.csv', 'out.txt')"
   ]
  },
  {
   "cell_type": "code",
   "execution_count": null,
   "metadata": {
    "collapsed": true
   },
   "outputs": [],
   "source": []
  }
 ],
 "metadata": {
  "anaconda-cloud": {},
  "kernelspec": {
   "display_name": "Python [default]",
   "language": "python",
   "name": "python3"
  },
  "language_info": {
   "codemirror_mode": {
    "name": "ipython",
    "version": 3
   },
   "file_extension": ".py",
   "mimetype": "text/x-python",
   "name": "python",
   "nbconvert_exporter": "python",
   "pygments_lexer": "ipython3",
   "version": "3.5.2"
  }
 },
 "nbformat": 4,
 "nbformat_minor": 1
}
