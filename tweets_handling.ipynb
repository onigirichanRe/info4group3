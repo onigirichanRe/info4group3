{
 "cells": [
  {
   "cell_type": "code",
   "execution_count": 1,
   "metadata": {
    "collapsed": false
   },
   "outputs": [],
   "source": [
    "import pandas as pd \n",
    "import re\n",
    "import sys\n",
    "\n",
    "def tweets_out(name,csv):#引数を受け取って扱う。\n",
    "    df = pd.read_csv(str(csv)+\".csv\") 　#ツイートデータの読み込み\n",
    "\n",
    "    tweets = df['text'] 　　　#元がcsv形式なのでデータフレーム型で読み込むことにより、列名指定で取り出している。\n",
    "\n",
    "    replypattern = '@[\\w]+'　\n",
    "    urlpattern = 'https?://[\\w/:%#\\$&\\?\\(\\)~\\.=\\+\\-]+'　　\n",
    "    enterpattern = \"\\n\"　　\n",
    "    spacepattern = \"[\\s]\"　\n",
    "    hashpattern = \"[#\\\"\\']\"\n",
    "    counting = 0　　　　　　#利用するツイートの数をカウントする\n",
    "    unititweet = \"\"       #結合するツイートを一時保存する変数\n",
    "    for tweet in tweets:　#データフレームの行数分だけ回す\n",
    "        counting += 1     \n",
    "        if counting % 4 != 0:  #規定のがツイート数が貯まるまでunititweetに文字列を結合し続ける\n",
    "            unititweet += tweet #まとめるツイートの数を3に設定したのは5ツイートで処理しようとするとjuman++で扱える配列に収まらなかったため\n",
    "        else:\n",
    "            i = re.sub(replypattern, '', unititweet)　#リプライ先を削除\n",
    "            i = re.sub(enterpattern, '', i)           #ツイート内の改行削除\n",
    "            i = re.sub(urlpattern, '' , i)            #URL列を削除\n",
    "            i = re.sub(spacepattern, '' , i)          #スペースを削除\n",
    "            i = re.sub(hashpattern, '' , i)           #クオートとシャープを削除\n",
    "            unititweet = tweet #次のツイートを結合するために変数に入れる\n",
    "            if isinstance(i, str) and not i.split(): #型チェック\n",
    "                pass\n",
    "            else:\n",
    "                sys.stdout.write('\\r前処理中 {}'.format(counting)) #ここは画面表記用　画面表記があると体感速度が変わるらしい\n",
    "                f = open('./tweets/'+str(name)+'/'+str(name)+str(int(counting/4))+'.txt','w') #ファイル作成、上書きモードで\n",
    "                f.write(i) #書き込み\n",
    "                f.close()　#閉じる\n",
    "            if counting == 10000:　#10000ツイート分処理したら終わり。\n",
    "                break"
   ]
  },
  {
   "cell_type": "code",
   "execution_count": 2,
   "metadata": {
    "collapsed": false
   },
   "outputs": [
    {
     "name": "stdout",
     "output_type": "stream",
     "text": [
      "前処理中 10000"
     ]
    }
   ],
   "source": [
    "tweets_out(\"onigirichan\",\"tweets\") #引数の文字列は単純にアカウント名と元のcsvの名前\n",
    "tweets_out(\"kuzugate\",\"kinudeus\")\n",
    "tweets_out(\"b1cute\",\"tweetsroot\")"
   ]
  }
 ],
 "metadata": {
  "anaconda-cloud": {},
  "kernelspec": {
   "display_name": "Python [default]",
   "language": "python",
   "name": "python3"
  },
  "language_info": {
   "codemirror_mode": {
    "name": "ipython",
    "version": 3
   },
   "file_extension": ".py",
   "mimetype": "text/x-python",
   "name": "python",
   "nbconvert_exporter": "python",
   "pygments_lexer": "ipython3",
   "version": "3.5.2"
  }
 },
 "nbformat": 4,
 "nbformat_minor": 1
}
