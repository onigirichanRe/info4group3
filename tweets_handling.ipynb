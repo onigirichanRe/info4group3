{
 "cells": [
  {
   "cell_type": "code",
   "execution_count": 1,
   "metadata": {
    "collapsed": false
   },
   "outputs": [],
   "source": [
    "import pandas as pd\n",
    "import re\n",
    "import numpy as np\n",
    "import sys\n",
    "def tweets_out(name,csv):\n",
    "    df = pd.read_csv(str(csv)+\".csv\")\n",
    "\n",
    "    tweets = df['text']\n",
    "\n",
    "    replypattern = '@[\\w]+'\n",
    "    urlpattern = 'https?://[\\w/:%#\\$&\\?\\(\\)~\\.=\\+\\-]+'\n",
    "    enterpattern = \"\\n\"\n",
    "    spacepattern = \"[\\s]\"\n",
    "    hashpattern = \"[#\\\"\\']\"\n",
    "    counting = 0\n",
    "    unititweet = \"\"\n",
    "    for tweet in tweets:\n",
    "        counting += 1\n",
    "        if counting % 4 != 0:\n",
    "            unititweet += tweet\n",
    "        else:\n",
    "            i = re.sub(replypattern, '', unititweet)\n",
    "            i = re.sub(enterpattern, '', i)\n",
    "            i = re.sub(urlpattern, '' , i)\n",
    "            i = re.sub(spacepattern, '' , i)\n",
    "            i = re.sub(hashpattern, '' , i)\n",
    "            unititweet = tweet\n",
    "            if isinstance(i, str) and not i.split():\n",
    "                pass\n",
    "            else:\n",
    "                sys.stdout.write('\\r前処理中 {}'.format(counting))\n",
    "                f = open('./tweets/'+str(name)+'/'+str(name)+str(int(counting/4))+'.txt','w')\n",
    "                f.write(i)\n",
    "                f.close()\n",
    "            if counting == 10000:\n",
    "                break"
   ]
  },
  {
   "cell_type": "code",
   "execution_count": 2,
   "metadata": {
    "collapsed": false
   },
   "outputs": [
    {
     "name": "stdout",
     "output_type": "stream",
     "text": [
      "前処理中 10000"
     ]
    }
   ],
   "source": [
    "tweets_out(\"onigirichan\",\"tweets\")\n",
    "tweets_out(\"kuzugate\",\"kinudeus\")\n",
    "tweets_out(\"b1cute\",\"tweetsroot\")"
   ]
  },
  {
   "cell_type": "code",
   "execution_count": null,
   "metadata": {
    "collapsed": true
   },
   "outputs": [],
   "source": []
  }
 ],
 "metadata": {
  "anaconda-cloud": {},
  "kernelspec": {
   "display_name": "Python [default]",
   "language": "python",
   "name": "python3"
  },
  "language_info": {
   "codemirror_mode": {
    "name": "ipython",
    "version": 3
   },
   "file_extension": ".py",
   "mimetype": "text/x-python",
   "name": "python",
   "nbconvert_exporter": "python",
   "pygments_lexer": "ipython3",
   "version": "3.5.2"
  }
 },
 "nbformat": 4,
 "nbformat_minor": 1
}
