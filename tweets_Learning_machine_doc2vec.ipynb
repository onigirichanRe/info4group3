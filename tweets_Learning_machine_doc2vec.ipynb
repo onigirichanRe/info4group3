{
 "cells": [
  {
   "cell_type": "code",
   "execution_count": 54,
   "metadata": {
    "collapsed": true
   },
   "outputs": [],
   "source": [
    "import sys\n",
    "import collections\n",
    "from os import listdir, path\n",
    "from pyknp import Jumanpp\n",
    "from gensim import models\n",
    "from gensim.models.doc2vec import LabeledSentence"
   ]
  },
  {
   "cell_type": "code",
   "execution_count": 55,
   "metadata": {
    "collapsed": true
   },
   "outputs": [],
   "source": [
    "def corpus_files(): #学習対象のファイルのパス一覧を取得\n",
    "    dirs = [path.join('./tweets/', x)\n",
    "            for x in listdir('./tweets/') if not x.endswith('.txt')]\n",
    "    docs = [path.join(x, y)\n",
    "            for x in dirs for y in listdir(x)]]\n",
    "    return docs"
   ]
  },
  {
   "cell_type": "code",
   "execution_count": 56,
   "metadata": {
    "collapsed": true
   },
   "outputs": [],
   "source": [
    "def read_document(path): #withを用いてファイルを読み込む with中のretrunでも終了処理される\n",
    "    with open(path, 'r') as f:\n",
    "        return f.read()"
   ]
  },
  {
   "cell_type": "code",
   "execution_count": 57,
   "metadata": {
    "collapsed": true
   },
   "outputs": [],
   "source": [
    "def split_into_words(text):　#Juman++を用いて解析する\n",
    "    result = Jumanpp().analysis(text)\n",
    "    return [mrph.midasi for mrph in result.mrph_list()]"
   ]
  },
  {
   "cell_type": "code",
   "execution_count": 58,
   "metadata": {
    "collapsed": true
   },
   "outputs": [],
   "source": [
    "def doc_to_sentence(doc, name): #上記関数の結果にタグ付け\n",
    "    words = split_into_words(doc)\n",
    "    return LabeledSentence(words=words, tags=[name])"
   ]
  },
  {
   "cell_type": "code",
   "execution_count": 59,
   "metadata": {
    "collapsed": true
   },
   "outputs": [],
   "source": [
    "def corpus_to_sentences(corpus):　#ファイルパスのリストを全部読み取って全て形態素解析する\n",
    "    docs   = [read_document(x) for x in corpus]　#ここでファイル単位で格納\n",
    "    for idx, (doc, name) in enumerate(zip(docs, corpus)):\n",
    "        sys.stdout.write('\\r前処理中 {}/{} {}'.format(idx, len(corpus),name))　#画面表示用　画面表示があると体感時間が変わるらしい\n",
    "        yield doc_to_sentence(doc, name)"
   ]
  },
  {
   "cell_type": "code",
   "execution_count": 60,
   "metadata": {
    "collapsed": false
   },
   "outputs": [],
   "source": [
    "corpus = corpus_files()\n",
    "sentences = corpus_to_sentences(corpus)"
   ]
  },
  {
   "cell_type": "code",
   "execution_count": 61,
   "metadata": {
    "collapsed": false
   },
   "outputs": [
    {
     "name": "stdout",
     "output_type": "stream",
     "text": [
      "前処理中 7492/7493 ./tweets/onigirichan/onigirichan999.txt"
     ]
    }
   ],
   "source": [
    "model = models.Doc2Vec(size=100,    #次元数 ドキュメントごとの特徴次元を決定する\n",
    "                       iter=20,     #反復学習回数　多すぎると過学習&時間がかかりすぎるかと思いこの値　\n",
    "                       alpha=0.025, #学習率 min_alphaに向かって線形で落ちていくのでmin_alphaを設定すべきかも\n",
    "                       min_count=5, #学習に入れる単語の最低出現頻度 1だと支離滅裂になりすぎるかと思い5回\n",
    "                      workers=4)    #並列実行数\n",
    "model.build_vocab(sentences)        #単語登録"
   ]
  },
  {
   "cell_type": "code",
   "execution_count": 62,
   "metadata": {
    "collapsed": false
   },
   "outputs": [
    {
     "name": "stdout",
     "output_type": "stream",
     "text": [
      "\n",
      "訓練開始\n",
      "Epoch: 1\n",
      "Epoch: 2\n",
      "Epoch: 3\n",
      "Epoch: 4\n",
      "Epoch: 5\n",
      "Epoch: 6\n",
      "Epoch: 7\n",
      "Epoch: 8\n",
      "Epoch: 9\n",
      "Epoch: 10\n",
      "Epoch: 11\n",
      "Epoch: 12\n",
      "Epoch: 13\n",
      "Epoch: 14\n",
      "Epoch: 15\n",
      "Epoch: 16\n",
      "Epoch: 17\n",
      "Epoch: 18\n",
      "Epoch: 19\n",
      "Epoch: 20\n",
      "Epoch: 21\n",
      "Epoch: 22\n",
      "Epoch: 23\n",
      "Epoch: 24\n",
      "Epoch: 25\n",
      "Epoch: 26\n",
      "Epoch: 27\n",
      "Epoch: 28\n",
      "Epoch: 29\n",
      "Epoch: 30\n"
     ]
    }
   ],
   "source": [
    "print('\\n訓練開始')\n",
    "for epoch in range(30): #ここも反復学習のためのfor文　今にして思えば不要\n",
    "    print('Epoch: {}'.format(epoch + 1))　#これも体感時間削減のための画面表示\n",
    "    model.train(sentences,total_examples = len(corpus),epochs = epoch) #実際の学習を行う関数 ドキュメント本体、ドキュメントの数、学習回数を指定"
   ]
  },
  {
   "cell_type": "code",
   "execution_count": 63,
   "metadata": {
    "collapsed": false
   },
   "outputs": [],
   "source": [
    "model.save('doc2vec.model') #モデルの保存\n",
    "model = models.Doc2Vec.load('doc2vec.model')　#モデルの読み込み"
   ]
  },
  {
   "cell_type": "code",
   "execution_count": 64,
   "metadata": {
    "collapsed": false
   },
   "outputs": [
    {
     "name": "stdout",
     "output_type": "stream",
     "text": [
      "[('./tweets/kuzugate/kuzugate1765.txt', 0.3781484067440033), ('./tweets/onigirichan/onigirichan90.txt', 0.3621360659599304), ('./tweets/kuzugate/kuzugate726.txt', 0.3575366735458374), ('./tweets/kuzugate/kuzugate969.txt', 0.3327537477016449), ('./tweets/b1cute/b1cute2074.txt', 0.33220329880714417), ('./tweets/b1cute/b1cute1781.txt', 0.3313763439655304), ('./tweets/kuzugate/kuzugate1424.txt', 0.32063692808151245), ('./tweets/kuzugate/kuzugate1618.txt', 0.317220538854599), ('./tweets/kuzugate/kuzugate211.txt', 0.30157965421676636), ('./tweets/onigirichan/onigirichan1118.txt', 0.30070436000823975)]\n"
     ]
    }
   ],
   "source": [
    "result = model.docvecs.most_similar('./tweets/onigirichan/onigirichan1.txt') #指定したドキュメントと類似度の高いドキュメント10個を学習データから引っ張り出す\n",
    "#result = model.most_similar(positive=[\"愛\"]) #doc2vecのモデルはword2vecも使えるので単語単位でも検索可能\n",
    "print(result)"
   ]
  },
  {
   "cell_type": "code",
   "execution_count": null,
   "metadata": {
    "collapsed": true
   },
   "outputs": [],
   "source": []
  }
 ],
 "metadata": {
  "anaconda-cloud": {},
  "kernelspec": {
   "display_name": "Python [conda root]",
   "language": "python",
   "name": "conda-root-py"
  },
  "language_info": {
   "codemirror_mode": {
    "name": "ipython",
    "version": 3
   },
   "file_extension": ".py",
   "mimetype": "text/x-python",
   "name": "python",
   "nbconvert_exporter": "python",
   "pygments_lexer": "ipython3",
   "version": "3.5.2"
  }
 },
 "nbformat": 4,
 "nbformat_minor": 1
}
